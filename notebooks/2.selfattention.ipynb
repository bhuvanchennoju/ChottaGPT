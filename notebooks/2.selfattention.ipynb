{
 "cells": [
  {
   "cell_type": "code",
   "execution_count": 1,
   "metadata": {},
   "outputs": [],
   "source": [
    "import torch\n",
    "import matplotlib.pyplot as plt\n",
    "import imageio\n",
    "import numpy as np\n",
    "import os\n",
    "torch.manual_seed(1337)\n",
    "\n",
    "data_dir = '/n/projects/kc2819/projects/ChotaLLM/data/'\n",
    "assets_dir = '/n/projects/kc2819/projects/ChotaLLM/assets/'"
   ]
  },
  {
   "cell_type": "markdown",
   "metadata": {},
   "source": [
    "## Self attention"
   ]
  },
  {
   "cell_type": "code",
   "execution_count": 2,
   "metadata": {},
   "outputs": [
    {
     "name": "stdout",
     "output_type": "stream",
     "text": [
      "torch.Size([4, 8, 2])\n"
     ]
    }
   ],
   "source": [
    "'''\n",
    "\n",
    "Self attention -----> away for tokens to interact with each other in a sequence. \n",
    "\n",
    "Lets say we have a batch (B) of sequences, with each context lentgh or block size (B) of tokens, and each token has a dimension of features, or lets call them channels (C).\n",
    "\n",
    "B,T,C \n",
    "\n",
    "Lets say, ith token in T, wants to know the relationship with all other tokens in T (including itself), one naive way is to take the mean of all channel infrmation of all tokens in T, \n",
    "such a way that the information propagates from the 0 to i-1 -> ith token. This summerize the context to current token with context of all other tokens in T in the past.\n",
    "\n",
    "This is a extreamly simple way to do it, but it is not enough, because it is not considering the relationship between the tokens in the context, but lets worry about it later.\n",
    "\n",
    "\n",
    "'''\n",
    "\n",
    "B,T,C = 4,8,2 # batch, tokens, channels\n",
    "x = torch.randn(B,T,C)\n",
    "print(x.shape)"
   ]
  },
  {
   "cell_type": "code",
   "execution_count": 3,
   "metadata": {},
   "outputs": [],
   "source": [
    "# x[b,t] = mean_{i<=t} x[b,i]\n",
    "xbow = torch.zeros((B,T,C))\n",
    "for b in range(x.size(0)):\n",
    "    for t in range(x.size(1)):\n",
    "        prev = x[b,:t+1]\n",
    "        xbow[b,t] = torch.mean(prev, dim=0)"
   ]
  },
  {
   "cell_type": "code",
   "execution_count": 4,
   "metadata": {},
   "outputs": [
    {
     "data": {
      "text/plain": [
       "tensor([[ 0.1808, -0.0700],\n",
       "        [-0.3596, -0.9152],\n",
       "        [ 0.6258,  0.0255],\n",
       "        [ 0.9545,  0.0643],\n",
       "        [ 0.3612,  1.1679],\n",
       "        [-1.3499, -0.5102],\n",
       "        [ 0.2360, -0.2398],\n",
       "        [-0.9211,  1.5433]])"
      ]
     },
     "execution_count": 4,
     "metadata": {},
     "output_type": "execute_result"
    }
   ],
   "source": [
    "x[0]"
   ]
  },
  {
   "cell_type": "code",
   "execution_count": 12,
   "metadata": {},
   "outputs": [
    {
     "data": {
      "text/plain": [
       "tensor([[ 0.1275, -0.0560],\n",
       "        [ 0.4795, -0.3036],\n",
       "        [ 0.6689,  0.3372],\n",
       "        [ 0.6057,  0.3369],\n",
       "        [ 0.3943,  0.1296],\n",
       "        [ 0.4821, -0.0581],\n",
       "        [ 0.5984, -0.3702],\n",
       "        [ 0.5895, -0.3438]])"
      ]
     },
     "execution_count": 12,
     "metadata": {},
     "output_type": "execute_result"
    }
   ],
   "source": [
    "xbow[0]"
   ]
  },
  {
   "cell_type": "code",
   "execution_count": 30,
   "metadata": {},
   "outputs": [
    {
     "name": "stderr",
     "output_type": "stream",
     "text": [
      "/tmp/ipykernel_248329/1639357011.py:55: DeprecationWarning: Starting with ImageIO v3 the behavior of this function will switch to that of iio.v3.imread. To keep the current behavior (and make this warning disappear) use `import imageio.v2 as imageio` or call `imageio.v2.imread` directly.\n",
      "  image = imageio.imread(f\"{img_dir}/frame_{i}.png\")\n"
     ]
    }
   ],
   "source": [
    "B, T, C = 10, 8, 2\n",
    "x = torch.randn(B, T, C)\n",
    "xbow = torch.zeros((B, T, C))\n",
    "\n",
    "\n",
    "def plot_frame(x, xbow, b, t, frame_number, save_dir, vmin, vmax):\n",
    "    fig, ax = plt.subplots(2, 1, figsize=(10, 10))\n",
    "    axes = ax.flatten()\n",
    "\n",
    "    \n",
    "    axes[0].set_title(f'Original Data (b={b}, t={t})')\n",
    "    cax0 = axes[0].imshow(x[b].detach().numpy().T, aspect='auto', cmap='rainbow', vmin=vmin, vmax=vmax)\n",
    "    fig.colorbar(cax0, ax=axes[0])\n",
    "    for i in range(x.size(1)):\n",
    "        for j in range(x.size(2)):\n",
    "            axes[0].text(i, j, f'{x[b, i, j]:.2f}', ha='center', va='center', color='white' if x[b, i, j] < 0 else 'black')\n",
    "\n",
    "    \n",
    "    axes[1].set_title(f'Attention Result (b={b}, t={t})')\n",
    "    cax1 = axes[1].imshow(xbow[b].detach().numpy().T, aspect='auto', cmap='rainbow', vmin=vmin, vmax=vmax)\n",
    "    fig.colorbar(cax1, ax=axes[1])\n",
    "    for i in range(x.size(1)):\n",
    "        for j in range(x.size(2)):\n",
    "            axes[1].text(i, j, f'{xbow[b, i, j]:.2f}', ha='center', va='center', color='white' if xbow[b, i, j] < 0 else 'black')\n",
    "\n",
    "    fig.tight_layout()\n",
    "    fig.savefig(f\"{save_dir}/frame_{frame_number}.png\")\n",
    "    plt.close(fig)\n",
    "\n",
    "    for ax in axes:\n",
    "        ax.set_yticks(range(x.size(2)))\n",
    "        ax.set_yticklabels([f'{i}' for i in range(x.size(2))], fontsize=12, va='center', fontweight='bold', fontfamily='serif')\n",
    "        ax.set_xticks(range(x.size(1)))\n",
    "        for s in ['top', 'bottom', 'left', 'right']:\n",
    "            ax.spines[s].set_visible(False)\n",
    "\n",
    "img_dir = assets_dir + \"/images\"\n",
    "gif_dir = assets_dir + \"/gifs\"\n",
    "os.makedirs(img_dir, exist_ok=True)\n",
    "os.makedirs(gif_dir, exist_ok=True)\n",
    "\n",
    "vmin, vmax = -1, 1\n",
    "frame_number = 0\n",
    "for b in range(x.size(0)):\n",
    "    for t in range(x.size(1)):\n",
    "        prev = x[b, :t+1]\n",
    "        xbow[b, t] = torch.mean(prev, dim=0)\n",
    "        plot_frame(x, xbow, b, t, frame_number, save_dir=img_dir, vmin=vmin, vmax=vmax)\n",
    "        frame_number += 1\n",
    "\n",
    "with imageio.get_writer(f\"{gif_dir}/attention.gif\", mode='I', duration=0.1) as writer:\n",
    "    for i in range(frame_number):\n",
    "        image = imageio.imread(f\"{img_dir}/frame_{i}.png\")\n",
    "        writer.append_data(image)\n",
    "        os.remove(f\"{img_dir}/frame_{i}.png\")\n"
   ]
  },
  {
   "cell_type": "code",
   "execution_count": null,
   "metadata": {},
   "outputs": [],
   "source": []
  }
 ],
 "metadata": {
  "kernelspec": {
   "display_name": "Python 3 (ipykernel)",
   "language": "python",
   "name": "python3"
  },
  "language_info": {
   "codemirror_mode": {
    "name": "ipython",
    "version": 3
   },
   "file_extension": ".py",
   "mimetype": "text/x-python",
   "name": "python",
   "nbconvert_exporter": "python",
   "pygments_lexer": "ipython3",
   "version": "3.12.4"
  }
 },
 "nbformat": 4,
 "nbformat_minor": 2
}
