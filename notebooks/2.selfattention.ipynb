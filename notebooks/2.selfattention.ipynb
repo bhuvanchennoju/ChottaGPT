{
 "cells": [
  {
   "cell_type": "code",
   "execution_count": 1,
   "metadata": {},
   "outputs": [],
   "source": [
    "import torch\n",
    "import torch.nn as nn\n",
    "from torch.nn import functional as F\n",
    "\n",
    "import matplotlib.pyplot as plt\n",
    "import imageio\n",
    "import numpy as np\n",
    "import os\n",
    "torch.manual_seed(2024)\n",
    "\n",
    "data_dir = '/data/'\n",
    "assets_dir = '/assets/'\n",
    "\n",
    "img_dir = assets_dir + \"/images\"\n",
    "gif_dir = assets_dir + \"/gifs\"\n",
    "os.makedirs(img_dir, exist_ok=True)\n",
    "os.makedirs(gif_dir, exist_ok=True)\n"
   ]
  },
  {
   "cell_type": "markdown",
   "metadata": {},
   "source": [
    "## weighted context of tokens"
   ]
  },
  {
   "cell_type": "code",
   "execution_count": 2,
   "metadata": {},
   "outputs": [
    {
     "name": "stdout",
     "output_type": "stream",
     "text": [
      "torch.Size([4, 8, 2])\n"
     ]
    }
   ],
   "source": [
    "'''\n",
    "\n",
    "Self attention -----> away for tokens to interact with each other in a sequence. \n",
    "\n",
    "Lets say we have a batch (B) of sequences, with each context lentgh or block size (B) of tokens, and each token has a dimension of features, or lets call them channels (C).\n",
    "\n",
    "B,T,C \n",
    "\n",
    "Lets say, ith token in T, wants to know the relationship with all other tokens in T (including itself), one naive way is to take the mean of all channel infrmation of all tokens in T, \n",
    "such a way that the information propagates from the 0 to i-1 -> ith token. This summerize the context to current token with context of all other tokens in T in the past.\n",
    "\n",
    "This is a extreamly simple way to do it, but it is not enough, because it is not considering the relationship between the tokens in the context, but lets worry about it later.\n",
    "\n",
    "\n",
    "'''\n",
    "\n",
    "B,T,C = 4,8,2 # batch, tokens, channels\n",
    "x = torch.randn(B,T,C)\n",
    "print(x.shape)"
   ]
  },
  {
   "cell_type": "code",
   "execution_count": 3,
   "metadata": {},
   "outputs": [],
   "source": [
    "# x[b,t] = mean_{i<=t} x[b,i]\n",
    "xbow = torch.zeros((B,T,C))\n",
    "for b in range(x.size(0)):\n",
    "    for t in range(x.size(1)):\n",
    "        prev = x[b,:t+1]\n",
    "        xbow[b,t] = torch.mean(prev, dim=0)"
   ]
  },
  {
   "cell_type": "code",
   "execution_count": 4,
   "metadata": {},
   "outputs": [
    {
     "data": {
      "text/plain": [
       "tensor([[ 0.1808, -0.0700],\n",
       "        [-0.3596, -0.9152],\n",
       "        [ 0.6258,  0.0255],\n",
       "        [ 0.9545,  0.0643],\n",
       "        [ 0.3612,  1.1679],\n",
       "        [-1.3499, -0.5102],\n",
       "        [ 0.2360, -0.2398],\n",
       "        [-0.9211,  1.5433]])"
      ]
     },
     "execution_count": 4,
     "metadata": {},
     "output_type": "execute_result"
    }
   ],
   "source": [
    "x[0]"
   ]
  },
  {
   "cell_type": "code",
   "execution_count": 5,
   "metadata": {},
   "outputs": [
    {
     "data": {
      "text/plain": [
       "tensor([[ 0.1808, -0.0700],\n",
       "        [-0.0894, -0.4926],\n",
       "        [ 0.1490, -0.3199],\n",
       "        [ 0.3504, -0.2238],\n",
       "        [ 0.3525,  0.0545],\n",
       "        [ 0.0688, -0.0396],\n",
       "        [ 0.0927, -0.0682],\n",
       "        [-0.0341,  0.1332]])"
      ]
     },
     "execution_count": 5,
     "metadata": {},
     "output_type": "execute_result"
    }
   ],
   "source": [
    "xbow[0]"
   ]
  },
  {
   "cell_type": "code",
   "execution_count": 6,
   "metadata": {},
   "outputs": [
    {
     "name": "stderr",
     "output_type": "stream",
     "text": [
      "/tmp/ipykernel_236857/2264517232.py:49: DeprecationWarning: Starting with ImageIO v3 the behavior of this function will switch to that of iio.v3.imread. To keep the current behavior (and make this warning disappear) use `import imageio.v2 as imageio` or call `imageio.v2.imread` directly.\n",
      "  image = imageio.imread(f\"{img_dir}/frame_{i}.png\")\n"
     ]
    }
   ],
   "source": [
    "B, T, C = 8, 8, 2\n",
    "x = torch.randn(B, T, C)\n",
    "xbow = torch.zeros((B, T, C))\n",
    "\n",
    "\n",
    "def plot_frame(x, xbow, b, t, frame_number, save_dir, vmin, vmax):\n",
    "    fig, ax = plt.subplots(2, 1, figsize=(10, 10))\n",
    "    axes = ax.flatten()\n",
    "\n",
    "    \n",
    "    axes[0].set_title(f'Original Data (b={b}, t={t})')\n",
    "    cax0 = axes[0].imshow(x[b].detach().numpy().T, aspect='auto', cmap='rainbow', vmin=vmin, vmax=vmax)\n",
    "    fig.colorbar(cax0, ax=axes[0])\n",
    "    for i in range(x.size(1)):\n",
    "        for j in range(x.size(2)):\n",
    "            axes[0].text(i, j, f'{x[b, i, j]:.2f}', ha='center', va='center', color='white' if x[b, i, j] < 0 else 'black')\n",
    "\n",
    "    \n",
    "    axes[1].set_title(f'Attention Result (b={b}, t={t})')\n",
    "    cax1 = axes[1].imshow(xbow[b].detach().numpy().T, aspect='auto', cmap='rainbow', vmin=vmin, vmax=vmax)\n",
    "    fig.colorbar(cax1, ax=axes[1])\n",
    "    for i in range(x.size(1)):\n",
    "        for j in range(x.size(2)):\n",
    "            axes[1].text(i, j, f'{xbow[b, i, j]:.2f}', ha='center', va='center', color='white' if xbow[b, i, j] < 0 else 'black')\n",
    "\n",
    "    fig.tight_layout()\n",
    "    fig.savefig(f\"{save_dir}/frame_{frame_number}.png\")\n",
    "    plt.close(fig)\n",
    "\n",
    "    for ax in axes:\n",
    "        ax.set_yticks(range(x.size(2)))\n",
    "        ax.set_yticklabels([f'{i}' for i in range(x.size(2))], fontsize=12, va='center', fontweight='bold', fontfamily='serif')\n",
    "        ax.set_xticks(range(x.size(1)))\n",
    "        for s in ['top', 'bottom', 'left', 'right']:\n",
    "            ax.spines[s].set_visible(False)\n",
    "\n",
    "\n",
    "vmin, vmax = -1, 1\n",
    "frame_number = 0\n",
    "for b in range(x.size(0)):\n",
    "    for t in range(x.size(1)):\n",
    "        prev = x[b, :t+1]\n",
    "        xbow[b, t] = torch.mean(prev, dim=0)\n",
    "        plot_frame(x, xbow, b, t, frame_number, save_dir=img_dir, vmin=vmin, vmax=vmax)\n",
    "        frame_number += 1\n",
    "\n",
    "with imageio.get_writer(f\"{gif_dir}/attention.gif\", mode='I', duration=0.1) as writer:\n",
    "    for i in range(frame_number):\n",
    "        image = imageio.imread(f\"{img_dir}/frame_{i}.png\")\n",
    "        writer.append_data(image)\n",
    "        os.remove(f\"{img_dir}/frame_{i}.png\")\n"
   ]
  },
  {
   "cell_type": "code",
   "execution_count": null,
   "metadata": {},
   "outputs": [
    {
     "name": "stdout",
     "output_type": "stream",
     "text": [
      "**********\n",
      "tensor([[1., 1., 1.],\n",
      "        [1., 1., 1.],\n",
      "        [1., 1., 1.]])\n",
      "**********\n",
      "tensor([[1.0000, 0.0000, 0.0000],\n",
      "        [0.5000, 0.5000, 0.0000],\n",
      "        [0.3333, 0.3333, 0.3333]])\n",
      "**********\n",
      "tensor([[5., 7.],\n",
      "        [2., 0.],\n",
      "        [5., 3.]])\n",
      "**********\n",
      "tensor([[5.0000, 7.0000],\n",
      "        [3.5000, 3.5000],\n",
      "        [4.0000, 3.3333]])\n"
     ]
    }
   ],
   "source": [
    "torch.manual_seed(1337)\n",
    "a = torch.ones(3,3)\n",
    "x = torch.tril((torch.ones(3,3)))\n",
    "x = x / torch.sum(x, dim=1, keepdim=True) # for mean calculation\n",
    "b = torch.randint(0,10,(3,2)).float()\n",
    "print('*'*10)\n",
    "print(a)\n",
    "print('*'*10)\n",
    "print(x)\n",
    "print('*'*10)\n",
    "print(b)\n",
    "print('*'*10)\n",
    "c = x @ b\n",
    "print(c)"
   ]
  },
  {
   "cell_type": "markdown",
   "metadata": {},
   "source": [
    " here x is mimicing the for loop from 0 to ith element, and when mulitply with b were are ending up at the sum of all the 0 to ith T steps. This being repeated in all the channels in the T\n",
    "\n",
    " "
   ]
  },
  {
   "cell_type": "code",
   "execution_count": 45,
   "metadata": {},
   "outputs": [
    {
     "name": "stdout",
     "output_type": "stream",
     "text": [
      "torch.Size([4, 8, 2])\n"
     ]
    }
   ],
   "source": [
    "# version 1\n",
    "B,T,C = 4,8,2 # batch, tokens, channels\n",
    "x = torch.randn(B,T,C)\n",
    "print(x.shape)\n",
    "\n",
    "xbow = torch.zeros((B,T,C))\n",
    "for b in range(x.size(0)):\n",
    "    for t in range(x.size(1)):\n",
    "        prev = x[b,:t+1]\n",
    "        xbow[b,t] = torch.mean(prev, dim=0)"
   ]
  },
  {
   "cell_type": "code",
   "execution_count": 46,
   "metadata": {},
   "outputs": [
    {
     "name": "stdout",
     "output_type": "stream",
     "text": [
      "torch.Size([8, 8])\n",
      "torch.Size([4, 8, 2])\n"
     ]
    }
   ],
   "source": [
    "# version 2\n",
    "# print(x)\n",
    "wei = torch.tril(torch.ones(T,T))\n",
    "# print(wei)\n",
    "wei = wei / torch.sum(wei,dim = 1, keepdim = True) \n",
    "print(wei.shape)\n",
    "# print(wei)\n",
    "xbow1 = wei @ x # (B*,T,T) @ (B,T,C) = (B,T,C) -----> pytorch added the B* dimension automatically to do the batch matrix multiplication\n",
    "print(xbow.shape)\n",
    "# print(xbow1)"
   ]
  },
  {
   "cell_type": "code",
   "execution_count": 47,
   "metadata": {},
   "outputs": [
    {
     "data": {
      "text/plain": [
       "True"
      ]
     },
     "execution_count": 47,
     "metadata": {},
     "output_type": "execute_result"
    }
   ],
   "source": [
    "torch.allclose(xbow,xbow1)"
   ]
  },
  {
   "cell_type": "code",
   "execution_count": 48,
   "metadata": {},
   "outputs": [
    {
     "data": {
      "text/plain": [
       "(tensor([[-0.1244, -1.6824],\n",
       "         [ 0.5051, -0.8824],\n",
       "         [ 0.4332, -0.3097],\n",
       "         [ 0.2636, -0.1644],\n",
       "         [ 0.3596,  0.0460],\n",
       "         [ 0.2451,  0.0514],\n",
       "         [ 0.1557,  0.0980],\n",
       "         [ 0.1502,  0.3750]]),\n",
       " tensor([[-0.1244, -1.6824],\n",
       "         [ 0.5051, -0.8824],\n",
       "         [ 0.4332, -0.3097],\n",
       "         [ 0.2636, -0.1644],\n",
       "         [ 0.3596,  0.0460],\n",
       "         [ 0.2451,  0.0514],\n",
       "         [ 0.1557,  0.0980],\n",
       "         [ 0.1502,  0.3750]]))"
      ]
     },
     "execution_count": 48,
     "metadata": {},
     "output_type": "execute_result"
    }
   ],
   "source": [
    "xbow[0], xbow1[0]"
   ]
  },
  {
   "cell_type": "code",
   "execution_count": 52,
   "metadata": {},
   "outputs": [
    {
     "data": {
      "text/plain": [
       "True"
      ]
     },
     "execution_count": 52,
     "metadata": {},
     "output_type": "execute_result"
    }
   ],
   "source": [
    "# version 3\n",
    "tril = torch.tril(torch.ones(T,T))\n",
    "wei = torch.zeros((T,T)) # (T,T) ---> this could be a context impotance of with respect to each token in the sequence\n",
    "wei = wei.masked_fill(tril == 0, float('-inf'))\n",
    "wei = F.softmax(wei, dim = 1)\n",
    "xbow2 = wei @ x # (B*,T,T) @ (B,T,C) = (B,T,C) -----> pytorch added the B* dimension automatically to do the batch matrix multiplication\n",
    "torch.allclose(xbow,xbow2)\n"
   ]
  },
  {
   "cell_type": "markdown",
   "metadata": {},
   "source": [
    "## self attention\n",
    "\n",
    "Instead of constant weights (torch.zeros(T,T)) for every element, we weill create a data dependet wei that create the importance in the context."
   ]
  },
  {
   "cell_type": "code",
   "execution_count": 16,
   "metadata": {},
   "outputs": [
    {
     "name": "stdout",
     "output_type": "stream",
     "text": [
      "torch.Size([4, 8, 16])\n",
      "tensor([[ 2.4370e-02, -4.6804e-02,  2.1306e-02,  1.9785e-02, -4.4058e-02,\n",
      "         -2.0566e-02, -4.8582e-02, -6.0435e-02,  9.3066e-03, -3.5572e-02,\n",
      "          3.1700e-03, -7.0882e-02, -1.0409e-02,  7.9979e-02, -4.0685e-02,\n",
      "          7.0287e-02],\n",
      "        [ 7.0397e-02, -2.3965e-02,  6.1038e-02,  8.7629e-03, -1.0016e-01,\n",
      "          1.6956e-02, -7.2780e-02, -1.3956e-01, -8.8686e-03, -1.0096e-01,\n",
      "         -2.3039e-02, -1.5474e-01, -4.8996e-02,  1.4571e-01, -3.8007e-02,\n",
      "          1.0644e-01],\n",
      "        [ 8.3102e-02, -4.0897e-02,  1.4576e-01,  1.6216e-03, -1.7968e-01,\n",
      "          6.0904e-03, -1.3988e-01, -2.4223e-01, -1.3425e-02, -1.4724e-01,\n",
      "          2.4387e-02, -2.3852e-01, -7.5729e-02,  1.9417e-01, -3.2575e-02,\n",
      "          1.0631e-01],\n",
      "        [ 7.1802e-02, -1.0585e-02,  2.3597e-01, -1.9714e-02, -3.2637e-01,\n",
      "          1.2479e-02, -2.3087e-01, -3.3177e-01, -2.4223e-02, -2.3058e-01,\n",
      "          8.2523e-02, -3.4601e-01, -7.6966e-02,  2.3422e-01, -7.9392e-02,\n",
      "          1.8272e-01],\n",
      "        [ 1.2091e-01,  8.7024e-04,  2.7323e-01, -1.3277e-02, -4.4964e-01,\n",
      "         -5.5601e-02, -3.1110e-01, -4.3382e-01, -8.8539e-02, -2.4777e-01,\n",
      "          1.2302e-01, -4.5693e-01, -6.9700e-02,  3.2954e-01, -1.1710e-01,\n",
      "          3.3080e-01],\n",
      "        [ 2.3660e-01,  9.4838e-04,  5.1086e-01, -5.6420e-03, -6.0297e-01,\n",
      "         -7.7826e-02, -4.9375e-01, -6.7441e-01, -1.0453e-01, -4.3595e-01,\n",
      "         -3.8042e-03, -8.0204e-01, -8.3903e-02,  5.2594e-01, -2.1291e-01,\n",
      "          5.2985e-01],\n",
      "        [ 3.9456e-01,  8.6529e-02,  6.7981e-01,  5.9177e-03, -7.7570e-01,\n",
      "         -1.5321e-02, -4.8774e-01, -9.3620e-01, -1.6953e-01, -7.0312e-01,\n",
      "         -2.6840e-02, -1.0903e+00, -1.2480e-01,  8.1146e-01, -1.6241e-01,\n",
      "          5.9122e-01],\n",
      "        [ 3.9436e-01,  1.0421e-01,  1.3657e+00,  1.2709e-01, -1.3278e+00,\n",
      "         -1.9007e-01, -8.5240e-01, -1.7937e+00,  1.8330e-02, -1.0365e+00,\n",
      "         -5.8265e-02, -1.7210e+00, -3.1373e-01,  1.4224e+00,  1.0150e-01,\n",
      "          9.2757e-01]], grad_fn=<SelectBackward0>)\n"
     ]
    }
   ],
   "source": [
    "# version 4 self attention\n",
    "\n",
    "torch.manual_seed(1337)\n",
    "B,T,C = 4,8,32 # batch, time, channels\n",
    "x = torch.rand((B,T,C))\n",
    "\n",
    "head_size = 16\n",
    "num_heads = C // head_size # -->> \n",
    "\n",
    "\n",
    "query = nn.Linear(C,head_size,bias= False) # (C,head_size)\n",
    "key = nn.Linear(C,head_size,bias = False) #(C,head_size)\n",
    "value = nn.Linear(C,head_size,bias = False) #(C,head_size)\n",
    "\n",
    "# query -- what I am interested in\n",
    "# key --  here is what i have\n",
    "# value --- if you find me interesting, here is what i will communicate to you.\n",
    "\n",
    "k = key(x) ##--> (B,T,head_size)\n",
    "q = query(x) ##--> (B,T,head_size)\n",
    "\n",
    "# wei = q @ k.transpose(-2,-1) # (B,T,h) @ (B,h,T) - > (B,T,T)\n",
    "wei = q @ k.transpose(-2,-1) / head_size ** 0.5 # (B,T,h) @ (B,h,T) - > (B,T,T)\n",
    "tril = torch.tril(torch.ones(T,T))\n",
    "wei = wei.masked_fill(tril == 0, float('-inf'))\n",
    "wei = F.softmax(wei, dim = 1)\n",
    "\n",
    "v = value(x) # (B,T,h)\n",
    "out = wei @ v # (B,T,T) @ (B,T,h) = (B,T,h)\n",
    "\n",
    "print(out.shape)\n",
    "print(out[0])\n"
   ]
  },
  {
   "cell_type": "code",
   "execution_count": 14,
   "metadata": {},
   "outputs": [],
   "source": [
    "class Head(nn.Module):\n",
    "\n",
    "    def __init__(self, n_embed,head_size,block_size):\n",
    "        super().__init__()\n",
    "        self.n_embed = n_embed\n",
    "        self.head_size = head_size\n",
    "        self.key = nn.Linear(n_embed,head_size,bias = False)\n",
    "        self.query = nn.Linear(n_embed,head_size,bias = False)\n",
    "        self.value = nn.Linear(n_embed,head_size,bias = False)\n",
    "        self.register_buffer('tril',torch.tril(torch.ones(block_size,block_size)))\n",
    "\n",
    "    def forward(self,x):\n",
    "        B,T,C = x.shape\n",
    "        # every token gives a key, query\n",
    "        # query -- what I am interested in\n",
    "        # key --  here is what i have\n",
    "        # value --- if you find me interesting, here is what i will communicate to you.\n",
    "        k = self.key(x) # (B,T,emb_size) --> (B,T,head_size)\n",
    "        q = self.query(x) # (B,T,emb_size) --> (B,T,head_size)\n",
    "\n",
    "        # computing attention scores\n",
    "        wei = q @ k.transpose(-2,-1) * C**(-0.5) # (B,T,head_size) @ (B,head_size,T) --> (B,T,T) \n",
    "        wei = wei.masked_fill(self.tril[:T,:T] ==0, float('-inf')) # (B,T,T)\n",
    "        wei = F.softmax(wei,dim = -1)  #(B,T,T)\n",
    "        v = self.value(x) #(B,T,head_size)\n",
    "        out = wei @ v #(B,T,T) @ (B,T,head_size) --> (B,T,C)\n",
    "        return out"
   ]
  },
  {
   "cell_type": "code",
   "execution_count": 17,
   "metadata": {},
   "outputs": [],
   "source": [
    "# version 4 self attention\n",
    "\n",
    "torch.manual_seed(1337)\n",
    "B,T,C = 4,8,32 # batch, time, channels\n",
    "x = torch.rand((B,T,C))\n",
    "\n",
    "head_size = 16\n",
    "\n",
    "head = Head(C,head_size,T)\n",
    "out2 = head.forward(x)\n"
   ]
  },
  {
   "cell_type": "code",
   "execution_count": 18,
   "metadata": {},
   "outputs": [
    {
     "data": {
      "text/plain": [
       "True"
      ]
     },
     "execution_count": 18,
     "metadata": {},
     "output_type": "execute_result"
    }
   ],
   "source": [
    "torch.allclose(out,out)"
   ]
  },
  {
   "cell_type": "code",
   "execution_count": 89,
   "metadata": {},
   "outputs": [
    {
     "data": {
      "image/png": "[encoded data removed]",
      "text/plain": [
       "<Figure size 2000x500 with 8 Axes>"
      ]
     },
     "metadata": {},
     "output_type": "display_data"
    }
   ],
   "source": [
    "# lets plot query, key, value, and weights\n",
    "fig, ax = plt.subplots(1, 4, figsize=(20, 5))\n",
    "ax = ax.flatten()\n",
    "\n",
    "ax[0].set_title('Query')\n",
    "cax0 = ax[0].imshow(q[0].detach().numpy(), aspect='auto', cmap='rainbow')\n",
    "fig.colorbar(cax0, ax=ax[0])\n",
    "\n",
    "ax[1].set_title('Key')\n",
    "cax1 = ax[1].imshow(k[0].detach().numpy().T, aspect='auto', cmap='rainbow')\n",
    "fig.colorbar(cax1, ax=ax[1])\n",
    "\n",
    "ax[2].set_title('Value')\n",
    "cax2 = ax[2].imshow(v[0].detach().numpy().T, aspect='auto', cmap='rainbow')\n",
    "fig.colorbar(cax2, ax=ax[2])\n",
    "\n",
    "ax[3].set_title('Weights')\n",
    "cax3 = ax[3].imshow(wei[0].detach().numpy(), aspect='auto', cmap='rainbow')\n",
    "fig.colorbar(cax3, ax=ax[3])\n",
    "\n",
    "fig.tight_layout()\n"
   ]
  },
  {
   "cell_type": "code",
   "execution_count": 26,
   "metadata": {},
   "outputs": [
    {
     "data": {
      "text/plain": [
       "False"
      ]
     },
     "execution_count": 26,
     "metadata": {},
     "output_type": "execute_result"
    }
   ],
   "source": []
  },
  {
   "cell_type": "code",
   "execution_count": null,
   "metadata": {},
   "outputs": [],
   "source": []
  }
 ],
 "metadata": {
  "kernelspec": {
   "display_name": "Python 3 (ipykernel)",
   "language": "python",
   "name": "python3"
  },
  "language_info": {
   "codemirror_mode": {
    "name": "ipython",
    "version": 3
   },
   "file_extension": ".py",
   "mimetype": "text/x-python",
   "name": "python",
   "nbconvert_exporter": "python",
   "pygments_lexer": "ipython3",
   "version": "3.12.4"
  }
 },
 "nbformat": 4,
 "nbformat_minor": 2
}
